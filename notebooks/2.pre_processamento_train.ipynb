{
 "cells": [
  {
   "cell_type": "markdown",
   "id": "9e314069",
   "metadata": {},
   "source": [
    "## Notebook 2 - Tratamento dos Dados\n",
    "\n",
    "**Objetivo**: realizar a limpeza e transformação dos dados de treinamento, deixando a base preparada para ser inputada nos modelos de aprendizado de máquina."
   ]
  },
  {
   "cell_type": "markdown",
   "id": "5df24e71",
   "metadata": {},
   "source": [
    "---"
   ]
  },
  {
   "cell_type": "markdown",
   "id": "2e8580c4",
   "metadata": {},
   "source": [
    "## 0 - Imports e funções auxiliares"
   ]
  },
  {
   "cell_type": "code",
   "execution_count": 1,
   "id": "ab3abcb2",
   "metadata": {},
   "outputs": [],
   "source": [
    "from   pyod.models.knn import KNN\n",
    "from   sklearn.ensemble import ExtraTreesClassifier\n",
    "import warnings\n",
    "import matplotlib.pyplot as plt\n",
    "import seaborn as sns\n",
    "import pickle as pkl\n",
    "import pandas as pd\n",
    "import numpy as np\n",
    "\n",
    "warnings.filterwarnings(\"ignore\")"
   ]
  },
  {
   "cell_type": "code",
   "execution_count": 2,
   "id": "4b470f1f",
   "metadata": {},
   "outputs": [],
   "source": [
    "#Variáveis globais\n",
    "to_rescale = False\n",
    "drop_na = True"
   ]
  },
  {
   "cell_type": "markdown",
   "id": "159f28df",
   "metadata": {},
   "source": [
    "---"
   ]
  },
  {
   "cell_type": "markdown",
   "id": "d7af9408",
   "metadata": {},
   "source": [
    "## 1 - Ingestão dos dados"
   ]
  },
  {
   "cell_type": "code",
   "execution_count": 3,
   "id": "68e3ad27",
   "metadata": {},
   "outputs": [],
   "source": [
    "df_train_raw = pd.read_csv(\"../dados/raw/treino.csv\")\n",
    "df_test_raw = pd.read_csv(\"../dados/raw/teste.csv\")\n",
    "df_train = df_train_raw.copy()"
   ]
  },
  {
   "cell_type": "markdown",
   "id": "ce8bbde4",
   "metadata": {},
   "source": [
    "---"
   ]
  },
  {
   "cell_type": "markdown",
   "id": "a2429744",
   "metadata": {},
   "source": [
    "## 2 - Tratamento de valores faltantes"
   ]
  },
  {
   "cell_type": "markdown",
   "id": "5ce9dfce",
   "metadata": {},
   "source": [
    "Não existe um consenso sobre a proporção de dados faltantes que é aceitável em uma análise, mas alguns autores argumentam que mais de 10% já pode causar algum impacto (fonte: 1). Por isso, testei diferentes abordagens para entender qual é  o melhor resultado nas análises preditivas. \n",
    "\n",
    "Em uma abordagem, dropei todas os registros com NA's e obtive um dataset menor do que o original.Não é o ideal, pois implica em perda de dados que podem ser importantes. Mas servirá de ponto de partida para avaliar o desempenho do modelo quando apagamos todos os registros faltantes e quando adotamos outras abordagens.\n",
    "\n",
    "Em um segundo momento, utilizei a abordagem de inputação de valores. Para a variável número de dependentes, usei a moda (valor mais frequente). Já para o salário, usei e média."
   ]
  },
  {
   "cell_type": "code",
   "execution_count": 4,
   "id": "5da1e0ac",
   "metadata": {},
   "outputs": [
    {
     "data": {
      "text/plain": [
       "inadimplente                                 0\n",
       "util_linhas_inseguras                        0\n",
       "idade                                        0\n",
       "vezes_passou_de_30_59_dias                   0\n",
       "razao_debito                                 0\n",
       "salario_mensal                           21763\n",
       "numero_linhas_crdto_aberto                   0\n",
       "numero_vezes_passou_90_dias                  0\n",
       "numero_emprestimos_imobiliarios              0\n",
       "numero_de_vezes_que_passou_60_89_dias        0\n",
       "numero_de_dependentes                     2878\n",
       "dtype: int64"
      ]
     },
     "execution_count": 4,
     "metadata": {},
     "output_type": "execute_result"
    }
   ],
   "source": [
    "df_train.isnull().sum()"
   ]
  },
  {
   "cell_type": "code",
   "execution_count": 5,
   "id": "cfeac2f1",
   "metadata": {},
   "outputs": [],
   "source": [
    "if(drop_na):\n",
    "    df_train.dropna(inplace=True)\n",
    "    df_train.isnull().sum()\n",
    "else:\n",
    "    mode_dependent = df_train[\"numero_de_dependentes\"].mode()\n",
    "    mean_salary = df_train[\"salario_mensal\"].mean()\n",
    "    df_train[\"numero_de_dependentes\"] = df_train[\"numero_de_dependentes\"].fillna(mode_dependent[0])\n",
    "    df_train[\"salario_mensal\"] = df_train[\"salario_mensal\"].fillna(mean_salary)"
   ]
  },
  {
   "cell_type": "code",
   "execution_count": 6,
   "id": "6bfac335",
   "metadata": {},
   "outputs": [
    {
     "data": {
      "text/plain": [
       "(88237, 11)"
      ]
     },
     "execution_count": 6,
     "metadata": {},
     "output_type": "execute_result"
    }
   ],
   "source": [
    "df_train.shape"
   ]
  },
  {
   "cell_type": "code",
   "execution_count": 7,
   "id": "622ee597",
   "metadata": {},
   "outputs": [
    {
     "data": {
      "text/plain": [
       "inadimplente                             0\n",
       "util_linhas_inseguras                    0\n",
       "idade                                    0\n",
       "vezes_passou_de_30_59_dias               0\n",
       "razao_debito                             0\n",
       "salario_mensal                           0\n",
       "numero_linhas_crdto_aberto               0\n",
       "numero_vezes_passou_90_dias              0\n",
       "numero_emprestimos_imobiliarios          0\n",
       "numero_de_vezes_que_passou_60_89_dias    0\n",
       "numero_de_dependentes                    0\n",
       "dtype: int64"
      ]
     },
     "execution_count": 7,
     "metadata": {},
     "output_type": "execute_result"
    }
   ],
   "source": [
    "df_train.isnull().sum()"
   ]
  },
  {
   "cell_type": "markdown",
   "id": "3b494dcc",
   "metadata": {},
   "source": [
    "---"
   ]
  },
  {
   "cell_type": "markdown",
   "id": "92fb66d3",
   "metadata": {},
   "source": [
    "## 3 - Filtragem de dados"
   ]
  },
  {
   "cell_type": "markdown",
   "id": "598ff20d",
   "metadata": {},
   "source": [
    "### 3.1.Filtragem de linhas"
   ]
  },
  {
   "cell_type": "markdown",
   "id": "84b4d92a",
   "metadata": {},
   "source": [
    "#### 3.1.1.Duplicatas"
   ]
  },
  {
   "cell_type": "code",
   "execution_count": 8,
   "id": "88cf60b0",
   "metadata": {},
   "outputs": [
    {
     "data": {
      "text/plain": [
       "0"
      ]
     },
     "execution_count": 8,
     "metadata": {},
     "output_type": "execute_result"
    }
   ],
   "source": [
    "df_train.drop_duplicates(inplace=True)\n",
    "df_train.duplicated().sum()"
   ]
  },
  {
   "cell_type": "markdown",
   "id": "64860434",
   "metadata": {},
   "source": [
    "#### 3.1.2.Valores inconsistentes\n",
    "\n",
    "- clientes com idade 0 ou menores de idade\n",
    "- variável linhas inseguras > 1"
   ]
  },
  {
   "cell_type": "code",
   "execution_count": 9,
   "id": "63435ceb",
   "metadata": {},
   "outputs": [],
   "source": [
    "condition1 = df_train[\"idade\"] >= 18\n",
    "condition2 = df_train[\"util_linhas_inseguras\"] <= 1.0\n",
    "df_train = df_train[(condition1) & (condition2)]"
   ]
  },
  {
   "cell_type": "code",
   "execution_count": 10,
   "id": "f14e2b94",
   "metadata": {},
   "outputs": [
    {
     "data": {
      "text/html": [
       "<div>\n",
       "<style scoped>\n",
       "    .dataframe tbody tr th:only-of-type {\n",
       "        vertical-align: middle;\n",
       "    }\n",
       "\n",
       "    .dataframe tbody tr th {\n",
       "        vertical-align: top;\n",
       "    }\n",
       "\n",
       "    .dataframe thead th {\n",
       "        text-align: right;\n",
       "    }\n",
       "</style>\n",
       "<table border=\"1\" class=\"dataframe\">\n",
       "  <thead>\n",
       "    <tr style=\"text-align: right;\">\n",
       "      <th></th>\n",
       "      <th>inadimplente</th>\n",
       "      <th>util_linhas_inseguras</th>\n",
       "      <th>idade</th>\n",
       "      <th>vezes_passou_de_30_59_dias</th>\n",
       "      <th>razao_debito</th>\n",
       "      <th>salario_mensal</th>\n",
       "      <th>numero_linhas_crdto_aberto</th>\n",
       "      <th>numero_vezes_passou_90_dias</th>\n",
       "      <th>numero_emprestimos_imobiliarios</th>\n",
       "      <th>numero_de_vezes_que_passou_60_89_dias</th>\n",
       "      <th>numero_de_dependentes</th>\n",
       "    </tr>\n",
       "  </thead>\n",
       "  <tbody>\n",
       "    <tr>\n",
       "      <th>count</th>\n",
       "      <td>86122.000000</td>\n",
       "      <td>86122.000000</td>\n",
       "      <td>86122.000000</td>\n",
       "      <td>86122.000000</td>\n",
       "      <td>86122.000000</td>\n",
       "      <td>8.612200e+04</td>\n",
       "      <td>86122.000000</td>\n",
       "      <td>86122.000000</td>\n",
       "      <td>86122.000000</td>\n",
       "      <td>86122.000000</td>\n",
       "      <td>86122.000000</td>\n",
       "    </tr>\n",
       "    <tr>\n",
       "      <th>mean</th>\n",
       "      <td>0.061959</td>\n",
       "      <td>0.314998</td>\n",
       "      <td>51.453241</td>\n",
       "      <td>0.369580</td>\n",
       "      <td>27.067312</td>\n",
       "      <td>6.671948e+03</td>\n",
       "      <td>8.813114</td>\n",
       "      <td>0.205871</td>\n",
       "      <td>1.064676</td>\n",
       "      <td>0.185516</td>\n",
       "      <td>0.848935</td>\n",
       "    </tr>\n",
       "    <tr>\n",
       "      <th>std</th>\n",
       "      <td>0.241082</td>\n",
       "      <td>0.335806</td>\n",
       "      <td>14.396632</td>\n",
       "      <td>3.586883</td>\n",
       "      <td>392.805391</td>\n",
       "      <td>1.351779e+04</td>\n",
       "      <td>5.175521</td>\n",
       "      <td>3.554116</td>\n",
       "      <td>1.158093</td>\n",
       "      <td>3.541228</td>\n",
       "      <td>1.146276</td>\n",
       "    </tr>\n",
       "    <tr>\n",
       "      <th>min</th>\n",
       "      <td>0.000000</td>\n",
       "      <td>0.000000</td>\n",
       "      <td>21.000000</td>\n",
       "      <td>0.000000</td>\n",
       "      <td>0.000000</td>\n",
       "      <td>0.000000e+00</td>\n",
       "      <td>0.000000</td>\n",
       "      <td>0.000000</td>\n",
       "      <td>0.000000</td>\n",
       "      <td>0.000000</td>\n",
       "      <td>0.000000</td>\n",
       "    </tr>\n",
       "    <tr>\n",
       "      <th>25%</th>\n",
       "      <td>0.000000</td>\n",
       "      <td>0.033721</td>\n",
       "      <td>41.000000</td>\n",
       "      <td>0.000000</td>\n",
       "      <td>0.143703</td>\n",
       "      <td>3.427000e+03</td>\n",
       "      <td>5.000000</td>\n",
       "      <td>0.000000</td>\n",
       "      <td>0.000000</td>\n",
       "      <td>0.000000</td>\n",
       "      <td>0.000000</td>\n",
       "    </tr>\n",
       "    <tr>\n",
       "      <th>50%</th>\n",
       "      <td>0.000000</td>\n",
       "      <td>0.167365</td>\n",
       "      <td>51.000000</td>\n",
       "      <td>0.000000</td>\n",
       "      <td>0.296717</td>\n",
       "      <td>5.416000e+03</td>\n",
       "      <td>8.000000</td>\n",
       "      <td>0.000000</td>\n",
       "      <td>1.000000</td>\n",
       "      <td>0.000000</td>\n",
       "      <td>0.000000</td>\n",
       "    </tr>\n",
       "    <tr>\n",
       "      <th>75%</th>\n",
       "      <td>0.000000</td>\n",
       "      <td>0.540727</td>\n",
       "      <td>62.000000</td>\n",
       "      <td>0.000000</td>\n",
       "      <td>0.482235</td>\n",
       "      <td>8.300000e+03</td>\n",
       "      <td>12.000000</td>\n",
       "      <td>0.000000</td>\n",
       "      <td>2.000000</td>\n",
       "      <td>0.000000</td>\n",
       "      <td>2.000000</td>\n",
       "    </tr>\n",
       "    <tr>\n",
       "      <th>max</th>\n",
       "      <td>1.000000</td>\n",
       "      <td>1.000000</td>\n",
       "      <td>103.000000</td>\n",
       "      <td>98.000000</td>\n",
       "      <td>61106.500000</td>\n",
       "      <td>3.008750e+06</td>\n",
       "      <td>58.000000</td>\n",
       "      <td>98.000000</td>\n",
       "      <td>54.000000</td>\n",
       "      <td>98.000000</td>\n",
       "      <td>20.000000</td>\n",
       "    </tr>\n",
       "  </tbody>\n",
       "</table>\n",
       "</div>"
      ],
      "text/plain": [
       "       inadimplente  util_linhas_inseguras         idade  \\\n",
       "count  86122.000000           86122.000000  86122.000000   \n",
       "mean       0.061959               0.314998     51.453241   \n",
       "std        0.241082               0.335806     14.396632   \n",
       "min        0.000000               0.000000     21.000000   \n",
       "25%        0.000000               0.033721     41.000000   \n",
       "50%        0.000000               0.167365     51.000000   \n",
       "75%        0.000000               0.540727     62.000000   \n",
       "max        1.000000               1.000000    103.000000   \n",
       "\n",
       "       vezes_passou_de_30_59_dias  razao_debito  salario_mensal  \\\n",
       "count                86122.000000  86122.000000    8.612200e+04   \n",
       "mean                     0.369580     27.067312    6.671948e+03   \n",
       "std                      3.586883    392.805391    1.351779e+04   \n",
       "min                      0.000000      0.000000    0.000000e+00   \n",
       "25%                      0.000000      0.143703    3.427000e+03   \n",
       "50%                      0.000000      0.296717    5.416000e+03   \n",
       "75%                      0.000000      0.482235    8.300000e+03   \n",
       "max                     98.000000  61106.500000    3.008750e+06   \n",
       "\n",
       "       numero_linhas_crdto_aberto  numero_vezes_passou_90_dias  \\\n",
       "count                86122.000000                 86122.000000   \n",
       "mean                     8.813114                     0.205871   \n",
       "std                      5.175521                     3.554116   \n",
       "min                      0.000000                     0.000000   \n",
       "25%                      5.000000                     0.000000   \n",
       "50%                      8.000000                     0.000000   \n",
       "75%                     12.000000                     0.000000   \n",
       "max                     58.000000                    98.000000   \n",
       "\n",
       "       numero_emprestimos_imobiliarios  numero_de_vezes_que_passou_60_89_dias  \\\n",
       "count                     86122.000000                           86122.000000   \n",
       "mean                          1.064676                               0.185516   \n",
       "std                           1.158093                               3.541228   \n",
       "min                           0.000000                               0.000000   \n",
       "25%                           0.000000                               0.000000   \n",
       "50%                           1.000000                               0.000000   \n",
       "75%                           2.000000                               0.000000   \n",
       "max                          54.000000                              98.000000   \n",
       "\n",
       "       numero_de_dependentes  \n",
       "count           86122.000000  \n",
       "mean                0.848935  \n",
       "std                 1.146276  \n",
       "min                 0.000000  \n",
       "25%                 0.000000  \n",
       "50%                 0.000000  \n",
       "75%                 2.000000  \n",
       "max                20.000000  "
      ]
     },
     "execution_count": 10,
     "metadata": {},
     "output_type": "execute_result"
    }
   ],
   "source": [
    "df_train.describe()"
   ]
  },
  {
   "cell_type": "markdown",
   "id": "950469e4",
   "metadata": {},
   "source": [
    "### 3.2.Filtragem de colunas\n",
    "\n",
    "Na análise exploratória de dados (notebook1), descobri que as variáveis de atraso são altamente correlacionadas entre si (>98%). Portanto, como são informações redundantes, vou eliminar todas com exceção de uma das colunas."
   ]
  },
  {
   "cell_type": "code",
   "execution_count": 11,
   "id": "b2863d83",
   "metadata": {},
   "outputs": [
    {
     "data": {
      "text/plain": [
       "Index(['inadimplente', 'util_linhas_inseguras', 'idade', 'razao_debito',\n",
       "       'salario_mensal', 'numero_linhas_crdto_aberto',\n",
       "       'numero_vezes_passou_90_dias', 'numero_emprestimos_imobiliarios',\n",
       "       'numero_de_dependentes'],\n",
       "      dtype='object')"
      ]
     },
     "execution_count": 11,
     "metadata": {},
     "output_type": "execute_result"
    }
   ],
   "source": [
    "cols_to_drop = [\"vezes_passou_de_30_59_dias\", \"numero_de_vezes_que_passou_60_89_dias\"]\n",
    "df_train.drop(columns=cols_to_drop, axis=1, inplace=True)\n",
    "df_train.columns"
   ]
  },
  {
   "cell_type": "markdown",
   "id": "24b2b3e4",
   "metadata": {},
   "source": [
    "---"
   ]
  },
  {
   "cell_type": "markdown",
   "id": "88642f73",
   "metadata": {},
   "source": [
    "## 4.Seleção de atributos"
   ]
  },
  {
   "cell_type": "markdown",
   "id": "7d5d8b8d",
   "metadata": {},
   "source": [
    "Método TreeCliassifier: o primeiro passo foi treinar o algoritmo classificador com a base de dados para que ele possa aprender sobre eles. E então utilizar o atributo _feature_importances_ do objeto classificador para conhecer a importância relativa de cada uma das variáveis preditoras:"
   ]
  },
  {
   "cell_type": "code",
   "execution_count": 12,
   "id": "c7f820a2",
   "metadata": {},
   "outputs": [],
   "source": [
    "tree_clf = ExtraTreesClassifier()\n",
    "tree_clf.fit(X = df_train.iloc[:,1:], y = df_train.iloc[:,0])\n",
    "features = tree_clf.feature_importances_"
   ]
  },
  {
   "cell_type": "code",
   "execution_count": 13,
   "id": "74405523",
   "metadata": {},
   "outputs": [
    {
     "data": {
      "text/html": [
       "<div>\n",
       "<style scoped>\n",
       "    .dataframe tbody tr th:only-of-type {\n",
       "        vertical-align: middle;\n",
       "    }\n",
       "\n",
       "    .dataframe tbody tr th {\n",
       "        vertical-align: top;\n",
       "    }\n",
       "\n",
       "    .dataframe thead th {\n",
       "        text-align: right;\n",
       "    }\n",
       "</style>\n",
       "<table border=\"1\" class=\"dataframe\">\n",
       "  <thead>\n",
       "    <tr style=\"text-align: right;\">\n",
       "      <th></th>\n",
       "      <th>Feature_name</th>\n",
       "      <th>Relative_importance</th>\n",
       "    </tr>\n",
       "  </thead>\n",
       "  <tbody>\n",
       "    <tr>\n",
       "      <th>0</th>\n",
       "      <td>util_linhas_inseguras</td>\n",
       "      <td>19.481352</td>\n",
       "    </tr>\n",
       "    <tr>\n",
       "      <th>2</th>\n",
       "      <td>razao_debito</td>\n",
       "      <td>18.037948</td>\n",
       "    </tr>\n",
       "    <tr>\n",
       "      <th>3</th>\n",
       "      <td>salario_mensal</td>\n",
       "      <td>18.016335</td>\n",
       "    </tr>\n",
       "    <tr>\n",
       "      <th>1</th>\n",
       "      <td>idade</td>\n",
       "      <td>14.529449</td>\n",
       "    </tr>\n",
       "    <tr>\n",
       "      <th>4</th>\n",
       "      <td>numero_linhas_crdto_aberto</td>\n",
       "      <td>11.156151</td>\n",
       "    </tr>\n",
       "    <tr>\n",
       "      <th>5</th>\n",
       "      <td>numero_vezes_passou_90_dias</td>\n",
       "      <td>9.416442</td>\n",
       "    </tr>\n",
       "    <tr>\n",
       "      <th>7</th>\n",
       "      <td>numero_de_dependentes</td>\n",
       "      <td>4.741949</td>\n",
       "    </tr>\n",
       "    <tr>\n",
       "      <th>6</th>\n",
       "      <td>numero_emprestimos_imobiliarios</td>\n",
       "      <td>4.620373</td>\n",
       "    </tr>\n",
       "  </tbody>\n",
       "</table>\n",
       "</div>"
      ],
      "text/plain": [
       "                      Feature_name  Relative_importance\n",
       "0            util_linhas_inseguras            19.481352\n",
       "2                     razao_debito            18.037948\n",
       "3                   salario_mensal            18.016335\n",
       "1                            idade            14.529449\n",
       "4       numero_linhas_crdto_aberto            11.156151\n",
       "5      numero_vezes_passou_90_dias             9.416442\n",
       "7            numero_de_dependentes             4.741949\n",
       "6  numero_emprestimos_imobiliarios             4.620373"
      ]
     },
     "execution_count": 13,
     "metadata": {},
     "output_type": "execute_result"
    }
   ],
   "source": [
    "data = {\"Feature_name\": df_train.iloc[:,1:].columns, \n",
    "        \"Relative_importance\": features*100}\n",
    "\n",
    "feat_importance_df = pd.DataFrame(data).sort_values(by=\"Relative_importance\", ascending=False)\n",
    "feat_importance_df"
   ]
  },
  {
   "cell_type": "code",
   "execution_count": 14,
   "id": "9697abb6",
   "metadata": {},
   "outputs": [
    {
     "data": {
      "image/png": "[encoded data removed]",
      "text/plain": [
       "<Figure size 1200x500 with 1 Axes>"
      ]
     },
     "metadata": {},
     "output_type": "display_data"
    }
   ],
   "source": [
    "plt.figure(figsize = (12,5))\n",
    "sns.set(font_scale = 1.2)\n",
    "b = sns.barplot(x = feat_importance_df[\"Relative_importance\"], \n",
    "                y = feat_importance_df[\"Feature_name\"], orient = \"h\", color=\"blue\")\n",
    "plt.xlabel('% Importance')     \n",
    "plt.ylabel('')            \n",
    "plt.title(\"Relative importance of the attributes\")\n",
    "\n",
    "plt.show()"
   ]
  },
  {
   "cell_type": "markdown",
   "id": "e6de7558",
   "metadata": {},
   "source": [
    "Decidi eliminar as variáveis que possuem importância relativa <= 10%:"
   ]
  },
  {
   "cell_type": "code",
   "execution_count": 15,
   "id": "c40ba042",
   "metadata": {},
   "outputs": [],
   "source": [
    "cols_to_drop = [\"numero_de_dependentes\", \"numero_emprestimos_imobiliarios\", \"numero_vezes_passou_90_dias\"]\n",
    "df_train.drop(columns=cols_to_drop, axis=1, inplace=True)"
   ]
  },
  {
   "cell_type": "code",
   "execution_count": 16,
   "id": "352b9635",
   "metadata": {},
   "outputs": [
    {
     "data": {
      "text/html": [
       "<div>\n",
       "<style scoped>\n",
       "    .dataframe tbody tr th:only-of-type {\n",
       "        vertical-align: middle;\n",
       "    }\n",
       "\n",
       "    .dataframe tbody tr th {\n",
       "        vertical-align: top;\n",
       "    }\n",
       "\n",
       "    .dataframe thead th {\n",
       "        text-align: right;\n",
       "    }\n",
       "</style>\n",
       "<table border=\"1\" class=\"dataframe\">\n",
       "  <thead>\n",
       "    <tr style=\"text-align: right;\">\n",
       "      <th></th>\n",
       "      <th>inadimplente</th>\n",
       "      <th>util_linhas_inseguras</th>\n",
       "      <th>idade</th>\n",
       "      <th>razao_debito</th>\n",
       "      <th>salario_mensal</th>\n",
       "      <th>numero_linhas_crdto_aberto</th>\n",
       "    </tr>\n",
       "  </thead>\n",
       "  <tbody>\n",
       "    <tr>\n",
       "      <th>63417</th>\n",
       "      <td>0</td>\n",
       "      <td>0.101019</td>\n",
       "      <td>52</td>\n",
       "      <td>0.234859</td>\n",
       "      <td>5266.0</td>\n",
       "      <td>11</td>\n",
       "    </tr>\n",
       "  </tbody>\n",
       "</table>\n",
       "</div>"
      ],
      "text/plain": [
       "       inadimplente  util_linhas_inseguras  idade  razao_debito  \\\n",
       "63417             0               0.101019     52      0.234859   \n",
       "\n",
       "       salario_mensal  numero_linhas_crdto_aberto  \n",
       "63417          5266.0                          11  "
      ]
     },
     "execution_count": 16,
     "metadata": {},
     "output_type": "execute_result"
    }
   ],
   "source": [
    "df_train.sample(1)"
   ]
  },
  {
   "cell_type": "markdown",
   "id": "ef1652c2",
   "metadata": {},
   "source": [
    "---"
   ]
  },
  {
   "cell_type": "markdown",
   "id": "43a7a836",
   "metadata": {},
   "source": [
    "## 4.Tratamento de ouliers"
   ]
  },
  {
   "cell_type": "markdown",
   "id": "ee4defa3",
   "metadata": {},
   "source": [
    "Utilizarei duas abordagens diferentes e testarei qual apresenta melhor resultado no modelo preditivo.\n",
    "\n",
    "### 4.1. Abordagem 1: Excluir outliers"
   ]
  },
  {
   "cell_type": "markdown",
   "id": "f668ce69",
   "metadata": {},
   "source": [
    "Utilizarei o módulo KNN Detector da biblioteca PyOD, construída para ajudar na detecção de outliers em dados multivariados, como no meu caso (fontes 1 e 2 das referências). O algoritmo funciona como um classificador baseado em distância.\n",
    "\n",
    "Durante a análise ele irá computar a distância entre todos os pares de pontos e rotular como outlier aqueles que possuem valores muito discrepantes em relação aos seus k vizinhos mais próximos. O valor de corte para a detecção pode ser ajustado através do parâmetro \"contamination\", que representa a proporção máxima de outliers a serem detectados em relação ao tamanho total do conjunto de dados (default = 10%).\n",
    "\n",
    "Eu também testarei a abordagem de rescalonamento dos dados no lugar da remoção de outliers, para ver qual delas apresenta melhores resultados no modelo preditivo."
   ]
  },
  {
   "cell_type": "code",
   "execution_count": 17,
   "id": "62e66fa3",
   "metadata": {},
   "outputs": [],
   "source": [
    "df_train_remove_out = df_train.copy()"
   ]
  },
  {
   "cell_type": "code",
   "execution_count": 18,
   "id": "27d92406",
   "metadata": {},
   "outputs": [
    {
     "name": "stdout",
     "output_type": "stream",
     "text": [
      "There are 8613 outliers\n"
     ]
    }
   ],
   "source": [
    "detector = KNN()\n",
    "detector.fit(df_train_remove_out.iloc[:, 1:])\n",
    "outliers_predict = detector.labels_\n",
    "outliers_index = [index for index in range(len(outliers_predict)) if outliers_predict[index] == 1]\n",
    "print(f'There are {len(outliers_index)} outliers')"
   ]
  },
  {
   "cell_type": "code",
   "execution_count": 19,
   "id": "1f5e5faf",
   "metadata": {},
   "outputs": [],
   "source": [
    "outliers_list = df_train_remove_out.iloc[outliers_index,:]\n",
    "df_train_remove_out.drop(df_train.index[outliers_index], inplace=True)"
   ]
  },
  {
   "cell_type": "code",
   "execution_count": 20,
   "id": "5ca9a634",
   "metadata": {},
   "outputs": [
    {
     "data": {
      "text/html": [
       "<div>\n",
       "<style scoped>\n",
       "    .dataframe tbody tr th:only-of-type {\n",
       "        vertical-align: middle;\n",
       "    }\n",
       "\n",
       "    .dataframe tbody tr th {\n",
       "        vertical-align: top;\n",
       "    }\n",
       "\n",
       "    .dataframe thead th {\n",
       "        text-align: right;\n",
       "    }\n",
       "</style>\n",
       "<table border=\"1\" class=\"dataframe\">\n",
       "  <thead>\n",
       "    <tr style=\"text-align: right;\">\n",
       "      <th></th>\n",
       "      <th>inadimplente</th>\n",
       "      <th>util_linhas_inseguras</th>\n",
       "      <th>idade</th>\n",
       "      <th>razao_debito</th>\n",
       "      <th>salario_mensal</th>\n",
       "      <th>numero_linhas_crdto_aberto</th>\n",
       "    </tr>\n",
       "  </thead>\n",
       "  <tbody>\n",
       "    <tr>\n",
       "      <th>count</th>\n",
       "      <td>77509.000000</td>\n",
       "      <td>77509.000000</td>\n",
       "      <td>77509.000000</td>\n",
       "      <td>77509.000000</td>\n",
       "      <td>77509.000000</td>\n",
       "      <td>77509.000000</td>\n",
       "    </tr>\n",
       "    <tr>\n",
       "      <th>mean</th>\n",
       "      <td>0.063399</td>\n",
       "      <td>0.319857</td>\n",
       "      <td>50.771949</td>\n",
       "      <td>1.083116</td>\n",
       "      <td>5997.160136</td>\n",
       "      <td>8.435524</td>\n",
       "    </tr>\n",
       "    <tr>\n",
       "      <th>std</th>\n",
       "      <td>0.243681</td>\n",
       "      <td>0.338313</td>\n",
       "      <td>14.000201</td>\n",
       "      <td>26.210927</td>\n",
       "      <td>3674.014026</td>\n",
       "      <td>4.623201</td>\n",
       "    </tr>\n",
       "    <tr>\n",
       "      <th>min</th>\n",
       "      <td>0.000000</td>\n",
       "      <td>0.000000</td>\n",
       "      <td>21.000000</td>\n",
       "      <td>0.000000</td>\n",
       "      <td>0.000000</td>\n",
       "      <td>0.000000</td>\n",
       "    </tr>\n",
       "    <tr>\n",
       "      <th>25%</th>\n",
       "      <td>0.000000</td>\n",
       "      <td>0.034440</td>\n",
       "      <td>40.000000</td>\n",
       "      <td>0.144143</td>\n",
       "      <td>3482.000000</td>\n",
       "      <td>5.000000</td>\n",
       "    </tr>\n",
       "    <tr>\n",
       "      <th>50%</th>\n",
       "      <td>0.000000</td>\n",
       "      <td>0.172293</td>\n",
       "      <td>50.000000</td>\n",
       "      <td>0.295294</td>\n",
       "      <td>5250.000000</td>\n",
       "      <td>8.000000</td>\n",
       "    </tr>\n",
       "    <tr>\n",
       "      <th>75%</th>\n",
       "      <td>0.000000</td>\n",
       "      <td>0.553777</td>\n",
       "      <td>61.000000</td>\n",
       "      <td>0.473242</td>\n",
       "      <td>7833.000000</td>\n",
       "      <td>11.000000</td>\n",
       "    </tr>\n",
       "    <tr>\n",
       "      <th>max</th>\n",
       "      <td>1.000000</td>\n",
       "      <td>1.000000</td>\n",
       "      <td>98.000000</td>\n",
       "      <td>2579.000000</td>\n",
       "      <td>50000.000000</td>\n",
       "      <td>34.000000</td>\n",
       "    </tr>\n",
       "  </tbody>\n",
       "</table>\n",
       "</div>"
      ],
      "text/plain": [
       "       inadimplente  util_linhas_inseguras         idade  razao_debito  \\\n",
       "count  77509.000000           77509.000000  77509.000000  77509.000000   \n",
       "mean       0.063399               0.319857     50.771949      1.083116   \n",
       "std        0.243681               0.338313     14.000201     26.210927   \n",
       "min        0.000000               0.000000     21.000000      0.000000   \n",
       "25%        0.000000               0.034440     40.000000      0.144143   \n",
       "50%        0.000000               0.172293     50.000000      0.295294   \n",
       "75%        0.000000               0.553777     61.000000      0.473242   \n",
       "max        1.000000               1.000000     98.000000   2579.000000   \n",
       "\n",
       "       salario_mensal  numero_linhas_crdto_aberto  \n",
       "count    77509.000000                77509.000000  \n",
       "mean      5997.160136                    8.435524  \n",
       "std       3674.014026                    4.623201  \n",
       "min          0.000000                    0.000000  \n",
       "25%       3482.000000                    5.000000  \n",
       "50%       5250.000000                    8.000000  \n",
       "75%       7833.000000                   11.000000  \n",
       "max      50000.000000                   34.000000  "
      ]
     },
     "execution_count": 20,
     "metadata": {},
     "output_type": "execute_result"
    }
   ],
   "source": [
    "df_train_remove_out.describe()"
   ]
  },
  {
   "cell_type": "code",
   "execution_count": 21,
   "id": "12542151",
   "metadata": {},
   "outputs": [
    {
     "data": {
      "text/plain": [
       "(77509, 6)"
      ]
     },
     "execution_count": 21,
     "metadata": {},
     "output_type": "execute_result"
    }
   ],
   "source": [
    "df_train_remove_out.shape"
   ]
  },
  {
   "cell_type": "markdown",
   "id": "d9a08527",
   "metadata": {},
   "source": [
    "\n",
    "### 4.2. Abordagem 2: Manter os outliers e usar rescalonamento dos dados"
   ]
  },
  {
   "cell_type": "markdown",
   "id": "7fd223ee",
   "metadata": {},
   "source": [
    "Nesse caso, o conjunto de dados será processado no notebook 3, antes da entrada nos modelos de machine learning.\n"
   ]
  },
  {
   "cell_type": "markdown",
   "id": "b98b15d4",
   "metadata": {},
   "source": [
    "---"
   ]
  },
  {
   "cell_type": "markdown",
   "id": "716ce405",
   "metadata": {},
   "source": [
    "## 5.Exportação dos dados processados"
   ]
  },
  {
   "cell_type": "code",
   "execution_count": 22,
   "id": "44d22615",
   "metadata": {},
   "outputs": [],
   "source": [
    "if(to_rescale):\n",
    "    with open(\"../dados/proc/train_to_rescale.pkl\", mode=\"wb\") as f:\n",
    "        pkl.dump(df_train, f)\n",
    "else:\n",
    "    with open(\"../dados/proc/train_without_outliers.pkl\", mode=\"wb\") as f:\n",
    "        pkl.dump(df_train_remove_out, f)\n",
    "    "
   ]
  },
  {
   "cell_type": "markdown",
   "id": "a7643005",
   "metadata": {},
   "source": [
    "---"
   ]
  },
  {
   "cell_type": "markdown",
   "id": "1697bef9",
   "metadata": {},
   "source": [
    "## Referências\n",
    "\n",
    "1.Peng, Chao-Ying Joanne. Dong, Yiran. Principled missing data methods for researchers.\n",
    "Fonte: https://www.ncbi.nlm.nih.gov/pmc/articles/PMC3701793/.\n",
    "2.Curso Machine Learning e Data Science com Python de A a Z. Plataforma Udemy.\n",
    "https://ibm-learning.udemy.com/course/machine-learning-e-data-science-com-python-y/\n",
    "3.Alto, Valentina. Detecting outliers with PyOD. https://towardsdatascience.com/detecting-\n",
    "and-modeling-outliers-with-pyod-d40590a96488"
   ]
  }
 ],
 "metadata": {
  "kernelspec": {
   "display_name": "Python 3 (ipykernel)",
   "language": "python",
   "name": "python3"
  },
  "language_info": {
   "codemirror_mode": {
    "name": "ipython",
    "version": 3
   },
   "file_extension": ".py",
   "mimetype": "text/x-python",
   "name": "python",
   "nbconvert_exporter": "python",
   "pygments_lexer": "ipython3",
   "version": "3.9.13"
  }
 },
 "nbformat": 4,
 "nbformat_minor": 5
}
